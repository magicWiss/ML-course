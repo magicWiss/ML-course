{
  "nbformat": 4,
  "nbformat_minor": 0,
  "metadata": {
    "colab": {
      "name": "DiabetesLinearRegression.ipynb",
      "provenance": [],
      "authorship_tag": "ABX9TyNrUJb3yjCUpOm0aGoQerbz",
      "include_colab_link": true
    },
    "kernelspec": {
      "name": "python3",
      "display_name": "Python 3"
    },
    "language_info": {
      "name": "python"
    }
  },
  "cells": [
    {
      "cell_type": "markdown",
      "metadata": {
        "id": "view-in-github",
        "colab_type": "text"
      },
      "source": [
        "<a href=\"https://colab.research.google.com/github/magicWiss/ML-course/blob/Regression/DiabetesLinearRegression.ipynb\" target=\"_parent\"><img src=\"https://colab.research.google.com/assets/colab-badge.svg\" alt=\"Open In Colab\"/></a>"
      ]
    },
    {
      "cell_type": "code",
      "execution_count": null,
      "metadata": {
        "id": "lQcmDBMiJ1PV"
      },
      "outputs": [],
      "source": [
        ""
      ]
    },
    {
      "cell_type": "markdown",
      "source": [
        "#Esercitazione dataset diabete"
      ],
      "metadata": {
        "id": "Q5awQM6WKBi7"
      }
    },
    {
      "cell_type": "code",
      "source": [
        "import matplotlib.pyplot as plt\n",
        "import numpy as np\n",
        "from sklearn import datasets, linear_model\n",
        "from sklearn.model_selection import train_test_split\n",
        "from sklearn.metrics import mean_squared_error, r2_score\n",
        "# Carico il dataset\n",
        "diabetes_X, diabetes_y = datasets.load_diabetes(return_X_y=True)\n",
        "# Mantengo solo la terza feature (slicing)\n",
        "# Shape iniziale (442,10) -> Shape finale (442,1)\n",
        "# np.newaxis incrementa di una dimensione l'array\n",
        "# necessario per mantenere ad 1 la seconda dimensione.\n",
        "diabetes_X = diabetes_X[:, np.newaxis, 2]\n",
        "# Suddivido il dataset in training/test 80/20%\n",
        "diabetes_X_train,diabetes_X_test,diabetes_y_train, diabetes_y_test = train_test_split(diabetes_X, diabetes_y,test_size=0.2)"
      ],
      "metadata": {
        "id": "i5x90fHZKN-o"
      },
      "execution_count": 2,
      "outputs": []
    },
    {
      "cell_type": "code",
      "source": [
        "#Istanza del MSE\n",
        "regr=linear_model.LinearRegression()\n"
      ],
      "metadata": {
        "id": "SKENB9WtKjUu"
      },
      "execution_count": 3,
      "outputs": []
    },
    {
      "cell_type": "code",
      "source": [
        "#train\n",
        "regr.fit(diabetes_X_train,diabetes_y_train)"
      ],
      "metadata": {
        "colab": {
          "base_uri": "https://localhost:8080/"
        },
        "id": "46OpxU4YKs-U",
        "outputId": "2c0c99d9-67bc-407f-849a-9a6964c7b0d4"
      },
      "execution_count": 5,
      "outputs": [
        {
          "output_type": "execute_result",
          "data": {
            "text/plain": [
              "LinearRegression()"
            ]
          },
          "metadata": {},
          "execution_count": 5
        }
      ]
    },
    {
      "cell_type": "code",
      "source": [
        "#coefficiente\n",
        "regr.coef_"
      ],
      "metadata": {
        "colab": {
          "base_uri": "https://localhost:8080/"
        },
        "id": "pBToxehgK1uR",
        "outputId": "90adf0fb-e009-4264-befe-6c89f8725a3a"
      },
      "execution_count": 7,
      "outputs": [
        {
          "output_type": "execute_result",
          "data": {
            "text/plain": [
              "array([945.53068562])"
            ]
          },
          "metadata": {},
          "execution_count": 7
        }
      ]
    },
    {
      "cell_type": "code",
      "source": [
        "#predizione dei test data \n",
        "diabete_y_pred=regr.predict(diabetes_X_test)"
      ],
      "metadata": {
        "id": "b5T8DRyzK9wc"
      },
      "execution_count": 8,
      "outputs": []
    },
    {
      "cell_type": "code",
      "source": [
        "#parametri del modello\n",
        "print(\"Coefficienti: \", regr.coef_)"
      ],
      "metadata": {
        "colab": {
          "base_uri": "https://localhost:8080/"
        },
        "id": "u8f2gMi5MBm1",
        "outputId": "d7e2e27a-626c-4d79-d396-dc54e529eb31"
      },
      "execution_count": 9,
      "outputs": [
        {
          "output_type": "stream",
          "name": "stdout",
          "text": [
            "Coefficienti:  [945.53068562]\n"
          ]
        }
      ]
    },
    {
      "cell_type": "code",
      "source": [
        "#valutazione MSE (mean square error) ovvero la differenza tra i valori reali e quelli predetti\n",
        "mse=mean_squared_error(diabetes_y_test,diabete_y_pred)"
      ],
      "metadata": {
        "id": "dEG1-LbwMJx_"
      },
      "execution_count": 10,
      "outputs": []
    },
    {
      "cell_type": "code",
      "source": [
        "print(\"MSE->\", mse)"
      ],
      "metadata": {
        "colab": {
          "base_uri": "https://localhost:8080/"
        },
        "id": "7UJEphttMe_7",
        "outputId": "569ead88-1927-40f2-fd53-7346f89d1f5d"
      },
      "execution_count": 11,
      "outputs": [
        {
          "output_type": "stream",
          "name": "stdout",
          "text": [
            "MSE-> 3770.990577183683\n"
          ]
        }
      ]
    },
    {
      "cell_type": "code",
      "source": [
        "#plotting\n",
        "plt.scatter(diabetes_X_test,diabetes_y_test,color=\"black\")\n",
        "plt.plot(diabetes_X_test, diabete_y_pred, color=\"blue\", linewidth=3) \n",
        "\n",
        "plt.xticks(())\n",
        "plt.yticks(())\n",
        "\n",
        "plt.show()"
      ],
      "metadata": {
        "colab": {
          "base_uri": "https://localhost:8080/",
          "height": 252
        },
        "id": "QF_ZpzHBMi7b",
        "outputId": "bf36dc97-4da0-4f2f-9554-f8c314d5438b"
      },
      "execution_count": 15,
      "outputs": [
        {
          "output_type": "display_data",
          "data": {
            "text/plain": [
              "<Figure size 432x288 with 1 Axes>"
            ],
            "image/png": "[encoded data removed]"
          },
          "metadata": {}
        }
      ]
    },
    {
      "cell_type": "code",
      "source": [
        ""
      ],
      "metadata": {
        "id": "su31OxOMM2Vw"
      },
      "execution_count": null,
      "outputs": []
    }
  ]
}