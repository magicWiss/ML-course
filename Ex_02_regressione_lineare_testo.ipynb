{
  "cells": [
    {
      "cell_type": "markdown",
      "metadata": {
        "id": "view-in-github",
        "colab_type": "text"
      },
      "source": [
        "<a href=\"https://colab.research.google.com/github/magicWiss/ML-course/blob/Regression/Ex_02_regressione_lineare_testo.ipynb\" target=\"_parent\"><img src=\"https://colab.research.google.com/assets/colab-badge.svg\" alt=\"Open In Colab\"/></a>"
      ]
    },
    {
      "cell_type": "markdown",
      "metadata": {
        "id": "avBkh9dc3C_a"
      },
      "source": [
        "# Corso di Intelligenza Artificiale @ UniRoma3\n",
        "## Codice Esercitazione \\#2 Regressione lineare - con soluzioni\n",
        "\n",
        "#### Parte del codice è tratto e riadattato dal seguente testo: Hands-on Machine Learning with Scikit-Learn and TensorFlow (O'Reilly book)"
      ]
    },
    {
      "cell_type": "code",
      "execution_count": 1,
      "metadata": {
        "id": "Hyr7EuAB3C_b"
      },
      "outputs": [],
      "source": [
        "# Controllo sulla versione di Python (≥3.5)\n",
        "import sys\n",
        "assert sys.version_info >= (3, 5)"
      ]
    },
    {
      "cell_type": "code",
      "execution_count": 2,
      "metadata": {
        "id": "tKM2EF2L3C_d"
      },
      "outputs": [],
      "source": [
        "# Installa Scikit-Learn (≥0.20)\n",
        "import sklearn\n",
        "assert sklearn.__version__ >= \"0.20\""
      ]
    },
    {
      "cell_type": "markdown",
      "metadata": {
        "id": "G_ZZZk7K3C_e"
      },
      "source": [
        "Funzione di supporto per ricavare valori PIL <-> Livello di Soddisfazione, suddivisi per nazione.\n"
      ]
    },
    {
      "cell_type": "code",
      "execution_count": 3,
      "metadata": {
        "id": "Qaf_oBE53C_e"
      },
      "outputs": [],
      "source": [
        "def prepare_country_stats(oecd_bli, gdp_per_capita):\n",
        "    # seleziono solo i record con INEQUALITY = TOT\n",
        "    oecd_bli = oecd_bli[oecd_bli[\"INEQUALITY\"]==\"TOT\"]\n",
        "    # aggrego i valori 'Value' per ogni paese 'Country'\n",
        "    oecd_bli = oecd_bli.pivot(index=\"Country\", columns=\"Indicator\", values=\"Value\")\n",
        "    # rinomino il campo 2015 in GDP per capita\n",
        "    gdp_per_capita.rename(columns={\"2015\": \"GDP per capita\"}, inplace=True)\n",
        "    # creo una tabella join in base al campo Country delle due tabelle\n",
        "    gdp_per_capita.set_index(\"Country\", inplace=True)\n",
        "    full_country_stats = pd.merge(left=oecd_bli, right=gdp_per_capita,\n",
        "                                  left_index=True, right_index=True)\n",
        "    full_country_stats.sort_values(by=\"GDP per capita\", inplace=True)\n",
        "    remove_indices = [0, 1, 6, 8, 33, 34, 35]\n",
        "    keep_indices = list(set(range(36)) - set(remove_indices))\n",
        "    return full_country_stats[[\"GDP per capita\", 'Life satisfaction']].iloc[keep_indices]"
      ]
    },
    {
      "cell_type": "markdown",
      "metadata": {
        "id": "421EBb3Y3C_e"
      },
      "source": [
        "Impostiamo una directory di lavoro `datasets/lifesat`."
      ]
    },
    {
      "cell_type": "code",
      "execution_count": 4,
      "metadata": {
        "id": "toQQb-Wh3C_f"
      },
      "outputs": [],
      "source": [
        "import os\n",
        "datapath = os.path.join(\"datasets\", \"lifesat\", \"\")"
      ]
    },
    {
      "cell_type": "code",
      "execution_count": 5,
      "metadata": {
        "id": "pgdh9qmq3C_g"
      },
      "outputs": [],
      "source": [
        "# Impostiamo i grafici in modalità inline\n",
        "%matplotlib inline\n",
        "import matplotlib as mpl\n",
        "mpl.rc('axes', labelsize=14)\n",
        "mpl.rc('xtick', labelsize=12)\n",
        "mpl.rc('ytick', labelsize=12)"
      ]
    },
    {
      "cell_type": "code",
      "execution_count": 6,
      "metadata": {
        "id": "4IupSct63C_g",
        "colab": {
          "base_uri": "https://localhost:8080/"
        },
        "outputId": "39180f11-7032-4262-8a6a-d0305881905d"
      },
      "outputs": [
        {
          "output_type": "stream",
          "name": "stdout",
          "text": [
            "Downloading oecd_bli_2015.csv\n",
            "Downloading gdp_per_capita.csv\n"
          ]
        }
      ],
      "source": [
        "# Eseguo il download dei csv già elaborati\n",
        "import urllib.request\n",
        "DOWNLOAD_ROOT = \"https://raw.githubusercontent.com/ageron/handson-ml2/master/\"\n",
        "os.makedirs(datapath, exist_ok=True)\n",
        "for filename in (\"oecd_bli_2015.csv\", \"gdp_per_capita.csv\"):\n",
        "    print(\"Downloading\", filename)\n",
        "    url = DOWNLOAD_ROOT + \"datasets/lifesat/\" + filename\n",
        "    urllib.request.urlretrieve(url, datapath + filename)"
      ]
    },
    {
      "cell_type": "code",
      "execution_count": 7,
      "metadata": {
        "id": "eReFgfHr3C_h"
      },
      "outputs": [],
      "source": [
        "import matplotlib.pyplot as plt\n",
        "import numpy as np\n",
        "import pandas as pd\n",
        "import sklearn.linear_model\n",
        "\n",
        "# Carico i DataFrame dai file csv\n",
        "oecd_bli = pd.read_csv(datapath + \"oecd_bli_2015.csv\", thousands=',')\n",
        "gdp_per_capita = pd.read_csv(datapath + \"gdp_per_capita.csv\",thousands=',',delimiter='\\t',\n",
        "                             encoding='latin1', na_values=\"n/a\")\n",
        "\n",
        "\n"
      ]
    },
    {
      "cell_type": "code",
      "source": [
        "print (oecd_bli.head())"
      ],
      "metadata": {
        "id": "-2yfEE2vKyCy",
        "colab": {
          "base_uri": "https://localhost:8080/"
        },
        "outputId": "2d8cef90-0b09-471a-9155-d167de580aa9"
      },
      "execution_count": 8,
      "outputs": [
        {
          "output_type": "stream",
          "name": "stdout",
          "text": [
            "  LOCATION         Country INDICATOR                           Indicator  \\\n",
            "0      AUS       Australia   HO_BASE  Dwellings without basic facilities   \n",
            "1      AUT         Austria   HO_BASE  Dwellings without basic facilities   \n",
            "2      BEL         Belgium   HO_BASE  Dwellings without basic facilities   \n",
            "3      CAN          Canada   HO_BASE  Dwellings without basic facilities   \n",
            "4      CZE  Czech Republic   HO_BASE  Dwellings without basic facilities   \n",
            "\n",
            "  MEASURE Measure INEQUALITY Inequality Unit Code        Unit  PowerCode Code  \\\n",
            "0       L   Value        TOT      Total        PC  Percentage               0   \n",
            "1       L   Value        TOT      Total        PC  Percentage               0   \n",
            "2       L   Value        TOT      Total        PC  Percentage               0   \n",
            "3       L   Value        TOT      Total        PC  Percentage               0   \n",
            "4       L   Value        TOT      Total        PC  Percentage               0   \n",
            "\n",
            "  PowerCode  Reference Period Code  Reference Period  Value Flag Codes  \\\n",
            "0     units                    NaN               NaN    1.1          E   \n",
            "1     units                    NaN               NaN    1.0        NaN   \n",
            "2     units                    NaN               NaN    2.0        NaN   \n",
            "3     units                    NaN               NaN    0.2        NaN   \n",
            "4     units                    NaN               NaN    0.9        NaN   \n",
            "\n",
            "             Flags  \n",
            "0  Estimated value  \n",
            "1              NaN  \n",
            "2              NaN  \n",
            "3              NaN  \n",
            "4              NaN  \n"
          ]
        }
      ]
    },
    {
      "cell_type": "code",
      "source": [
        "print (gdp_per_capita.head())\n"
      ],
      "metadata": {
        "id": "j6mIwrDFKzLb",
        "colab": {
          "base_uri": "https://localhost:8080/"
        },
        "outputId": "49bad107-a825-4ffd-ce8d-a30f31e3f60b"
      },
      "execution_count": 9,
      "outputs": [
        {
          "output_type": "stream",
          "name": "stdout",
          "text": [
            "               Country                                 Subject Descriptor  \\\n",
            "0          Afghanistan  Gross domestic product per capita, current prices   \n",
            "1              Albania  Gross domestic product per capita, current prices   \n",
            "2              Algeria  Gross domestic product per capita, current prices   \n",
            "3               Angola  Gross domestic product per capita, current prices   \n",
            "4  Antigua and Barbuda  Gross domestic product per capita, current prices   \n",
            "\n",
            "          Units  Scale                      Country/Series-specific Notes  \\\n",
            "0  U.S. dollars  Units  See notes for:  Gross domestic product, curren...   \n",
            "1  U.S. dollars  Units  See notes for:  Gross domestic product, curren...   \n",
            "2  U.S. dollars  Units  See notes for:  Gross domestic product, curren...   \n",
            "3  U.S. dollars  Units  See notes for:  Gross domestic product, curren...   \n",
            "4  U.S. dollars  Units  See notes for:  Gross domestic product, curren...   \n",
            "\n",
            "        2015  Estimates Start After  \n",
            "0    599.994                 2013.0  \n",
            "1   3995.383                 2010.0  \n",
            "2   4318.135                 2014.0  \n",
            "3   4100.315                 2014.0  \n",
            "4  14414.302                 2011.0  \n"
          ]
        }
      ]
    },
    {
      "cell_type": "code",
      "source": [
        "# Ricavo i dati X,y\n",
        "country_stats = prepare_country_stats(oecd_bli, gdp_per_capita)\n",
        "X = np.c_[country_stats[\"GDP per capita\"]]\n",
        "y = np.c_[country_stats[\"Life satisfaction\"]]"
      ],
      "metadata": {
        "id": "XvcY43wTKvnz"
      },
      "execution_count": 10,
      "outputs": []
    },
    {
      "cell_type": "code",
      "source": [
        "# Visualizzo i dati X,y\n",
        "country_stats.plot(kind='scatter', x=\"GDP per capita\", y='Life satisfaction')\n",
        "plt.show()\n"
      ],
      "metadata": {
        "id": "cMv6crfmKU74",
        "colab": {
          "base_uri": "https://localhost:8080/",
          "height": 286
        },
        "outputId": "b2c3b9ee-a216-4d02-d82b-2640672333e4"
      },
      "execution_count": 11,
      "outputs": [
        {
          "output_type": "display_data",
          "data": {
            "text/plain": [
              "<Figure size 432x288 with 1 Axes>"
            ],
            "image/png": "[encoded data removed]"
          },
          "metadata": {
            "needs_background": "light"
          }
        }
      ]
    },
    {
      "cell_type": "markdown",
      "source": [
        "# *Esercizio \\#1*: crea e addestra un modello lineare con funzione di costo RSS"
      ],
      "metadata": {
        "id": "95ml8mOYRdaU"
      }
    },
    {
      "cell_type": "code",
      "source": [
        "#creazione di un modello lineare e addestramento con RSS\n",
        "linear_reg=sklearn.linear_model.LinearRegression()\n",
        "linear_reg.fit(X,y)\n"
      ],
      "metadata": {
        "id": "uN0K6tA7KYpE",
        "colab": {
          "base_uri": "https://localhost:8080/"
        },
        "outputId": "b9bd00d1-c038-4908-c8cb-f35985532f7b"
      },
      "execution_count": 14,
      "outputs": [
        {
          "output_type": "stream",
          "name": "stdout",
          "text": [
            "Coefficienti: [[4.91154459e-05]]\n"
          ]
        }
      ]
    },
    {
      "cell_type": "markdown",
      "source": [
        "# *Esercizio \\#2*: visualizza i parametri del modello"
      ],
      "metadata": {
        "id": "K0txwzoSRu8-"
      }
    },
    {
      "cell_type": "code",
      "source": [
        "print(\"Coefficienti:\",linear_reg.coef_)"
      ],
      "metadata": {
        "id": "ewKU9ugI8awb",
        "colab": {
          "base_uri": "https://localhost:8080/"
        },
        "outputId": "04b252e2-45a5-4595-d1ee-f6262cd3e029"
      },
      "execution_count": 15,
      "outputs": [
        {
          "output_type": "stream",
          "name": "stdout",
          "text": [
            "Coefficienti: [[4.91154459e-05]]\n"
          ]
        }
      ]
    },
    {
      "cell_type": "markdown",
      "source": [
        "# *Esercizio \\#3*: prendi tre campioni random dal dataset e ricava la predizione in base al modello addestrato"
      ],
      "metadata": {
        "id": "aZIDMpM2RysP"
      }
    },
    {
      "cell_type": "code",
      "source": [
        "country_stats.head()\n",
        "x_test=[[9054.914],[9437.372],[12239.894]]\n",
        "y_test=[6,5.6,4.9]\n",
        "y_predicted=linear_reg.predict(x_test)"
      ],
      "metadata": {
        "id": "oBpFqb89_7ce"
      },
      "execution_count": 26,
      "outputs": []
    },
    {
      "cell_type": "markdown",
      "source": [
        "# *Esercizio \\#4*: calcola RSS MSE e RMSE valutando i tre campioni"
      ],
      "metadata": {
        "id": "j33_JuhjR6q7"
      }
    },
    {
      "cell_type": "code",
      "source": [
        "#calcolo delle metriche\n",
        "from sklearn.metrics import mean_squared_error\n",
        "import math\n",
        "\n",
        "#RSS->non presente è la differenza tra i valori reali e quelli predetti al quadrato\n",
        "rss_eval=np.sum(np.square(y_test-y_predicted))\n",
        "\n",
        "#MSS->presente nelle metriche\n",
        "mse_eval=mean_squared_error(y_test,y_predicted)\n",
        "\n",
        "#RMSE->è il quadrato della mse\n",
        "rmse=math.sqrt(mse_eval)\n",
        "\n",
        "print(\"RSS:\",rss_eval)\n",
        "print(\"MSS:\",mse_eval)\n",
        "print(\"RMSE\",rmse)"
      ],
      "metadata": {
        "id": "ndYS0sgm2QxF",
        "colab": {
          "base_uri": "https://localhost:8080/"
        },
        "outputId": "8b001682-42d2-487b-f408-bc7d68d82900"
      },
      "execution_count": 29,
      "outputs": [
        {
          "output_type": "stream",
          "name": "stdout",
          "text": [
            "RSS: 2.089890991078192\n",
            "MSS: 0.29353048891512384\n",
            "RMSE 0.5417845410447993\n"
          ]
        }
      ]
    },
    {
      "cell_type": "markdown",
      "source": [
        "# *Esercizio \\#5*: suddividi il dataset in input in train e test con un rapporto 80/20"
      ],
      "metadata": {
        "id": "iIBKfNboSEG7"
      }
    },
    {
      "cell_type": "code",
      "source": [
        "#suddivisione del dataset in traing e testing set\n",
        "from sklearn.model_selection import train_test_split\n",
        "training_x,testing_x,train_y,testing_y=train_test_split(X,y,test_size=0.2)\n",
        "train_y\n",
        "testing_y"
      ],
      "metadata": {
        "id": "cg1Hy-XdAYZV",
        "colab": {
          "base_uri": "https://localhost:8080/"
        },
        "outputId": "fc814044-87cf-4194-ff34-f673b2602659"
      },
      "execution_count": 42,
      "outputs": [
        {
          "output_type": "execute_result",
          "data": {
            "text/plain": [
              "array([[5.7],\n",
              "       [7.4],\n",
              "       [5.6],\n",
              "       [6.5],\n",
              "       [7.3],\n",
              "       [7.3]])"
            ]
          },
          "metadata": {},
          "execution_count": 42
        }
      ]
    },
    {
      "cell_type": "markdown",
      "source": [
        "# *Esercizio \\#6*: addestra nuovamente il modello, e ricava RSS MSE e RMSE sui test set"
      ],
      "metadata": {
        "id": "8ZLudLAWSJ2J"
      }
    },
    {
      "cell_type": "code",
      "source": [
        "#si effettua l'addestramento sui dati di training\n",
        "model = sklearn.linear_model.LinearRegression()\n",
        "\n",
        "model.fit(training_x,train_y)\n",
        "print(\"W1: \",model.coef_,\"W0:\",model.intercept_)\n",
        "\n",
        "\n",
        "#predizione su dati di testing\n",
        "y_predict=model.predict(testing_x)\n",
        "y_predict\n",
        "\n",
        "#RSS\n",
        "rss_eval=np.sum(np.square(testing_y-y_predict))\n",
        "\n",
        "#MSS\n",
        "mss=mean_squared_error(testing_y,y_predict)\n",
        "\n",
        "#RMSS\n",
        "rmse=math.sqrt(mss)\n",
        "print(\"RSS:\",rss_eval)\n",
        "print(\"MSS:\",mss)\n",
        "print(\"RMSE\",rmse)"
      ],
      "metadata": {
        "id": "dlklpwDxq0cl",
        "colab": {
          "base_uri": "https://localhost:8080/"
        },
        "outputId": "cf41d4d3-85ed-48f7-d2be-b9ae98d6ba75"
      },
      "execution_count": 48,
      "outputs": [
        {
          "output_type": "stream",
          "name": "stdout",
          "text": [
            "W1:  [[4.82568866e-05]] W0: [4.83081379]\n",
            "RSS: 1.087670989741824\n",
            "MSS: 0.18127849829030399\n",
            "RMSE 0.42576812737721925\n"
          ]
        }
      ]
    },
    {
      "cell_type": "markdown",
      "source": [
        "# *Esercizio \\#7*: suddividi nuovamente il dataset ma con un rapporto 50/50. Valuta nuovamente le performance del modello e discuti eventuali differenze nei valori ottenuti."
      ],
      "metadata": {
        "id": "xN5gpxeeSR-Y"
      }
    },
    {
      "cell_type": "code",
      "source": [
        "x_50_train, x_50_test, y_50_train, y_50_test=train_test_split(X,y,test_size=0.5)\n",
        "\n",
        "model.fit(x_50_train, y_50_train)"
      ],
      "metadata": {
        "id": "sa5mOqChQbm7",
        "colab": {
          "base_uri": "https://localhost:8080/"
        },
        "outputId": "f887da91-4fd1-4f11-b97f-b9bb0f1027bd"
      },
      "execution_count": 52,
      "outputs": [
        {
          "output_type": "execute_result",
          "data": {
            "text/plain": [
              "LinearRegression()"
            ]
          },
          "metadata": {},
          "execution_count": 52
        }
      ]
    },
    {
      "cell_type": "code",
      "source": [
        "y_50_predict=model.predict(x_50_test)"
      ],
      "metadata": {
        "id": "gw-Vo7pKXWVO"
      },
      "execution_count": 53,
      "outputs": []
    },
    {
      "cell_type": "code",
      "source": [
        "#mse\n",
        "mse_50=mean_squared_error(y_50_test,y_50_predict)"
      ],
      "metadata": {
        "id": "0b9yJUjvXbAK"
      },
      "execution_count": 54,
      "outputs": []
    },
    {
      "cell_type": "code",
      "source": [
        "print(\"MSE (80,20):\",mse_eval, \"MSE(50,50):\",mse_50)"
      ],
      "metadata": {
        "colab": {
          "base_uri": "https://localhost:8080/"
        },
        "id": "m_3Ib8mnXkBX",
        "outputId": "0e54e88f-ec65-4ebb-bf73-f3859630a1a1"
      },
      "execution_count": 55,
      "outputs": [
        {
          "output_type": "stream",
          "name": "stdout",
          "text": [
            "MSE (80,20): 0.29353048891512384 MSE(50,50): 0.2468537694694798\n"
          ]
        }
      ]
    },
    {
      "cell_type": "code",
      "source": [
        ""
      ],
      "metadata": {
        "id": "SEmg1Jb2Xv9_"
      },
      "execution_count": null,
      "outputs": []
    }
  ],
  "metadata": {
    "kernelspec": {
      "display_name": "Python 3",
      "language": "python",
      "name": "python3"
    },
    "language_info": {
      "codemirror_mode": {
        "name": "ipython",
        "version": 3
      },
      "file_extension": ".py",
      "mimetype": "text/x-python",
      "name": "python",
      "nbconvert_exporter": "python",
      "pygments_lexer": "ipython3",
      "version": "3.7.10"
    },
    "metadata": {
      "interpreter": {
        "hash": "22b0ec00cd9e253c751e6d2619fc0bb2d18ed12980de3246690d5be49479dd65"
      }
    },
    "nav_menu": {},
    "toc": {
      "navigate_menu": true,
      "number_sections": true,
      "sideBar": true,
      "threshold": 6,
      "toc_cell": false,
      "toc_section_display": "block",
      "toc_window_display": true
    },
    "toc_position": {
      "height": "616px",
      "left": "0px",
      "right": "20px",
      "top": "106px",
      "width": "213px"
    },
    "colab": {
      "name": "Ex_02_regressione_lineare_testo.ipynb",
      "provenance": [],
      "collapsed_sections": [],
      "include_colab_link": true
    }
  },
  "nbformat": 4,
  "nbformat_minor": 0
}