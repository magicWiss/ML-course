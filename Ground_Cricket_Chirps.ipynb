{
  "nbformat": 4,
  "nbformat_minor": 0,
  "metadata": {
    "colab": {
      "name": "Ground Cricket Chirps.ipynb",
      "provenance": [],
      "collapsed_sections": [],
      "authorship_tag": "ABX9TyOXVZ+QrR/gIe/Vn1zcb4K7",
      "include_colab_link": true
    },
    "kernelspec": {
      "name": "python3",
      "display_name": "Python 3"
    },
    "language_info": {
      "name": "python"
    }
  },
  "cells": [
    {
      "cell_type": "markdown",
      "metadata": {
        "id": "view-in-github",
        "colab_type": "text"
      },
      "source": [
        "<a href=\"https://colab.research.google.com/github/magicWiss/ML-course/blob/Regression/Ground_Cricket_Chirps.ipynb\" target=\"_parent\"><img src=\"https://colab.research.google.com/assets/colab-badge.svg\" alt=\"Open In Colab\"/></a>"
      ]
    },
    {
      "cell_type": "code",
      "execution_count": null,
      "metadata": {
        "id": "kzfxomr3-bXJ"
      },
      "outputs": [],
      "source": [
        ""
      ]
    },
    {
      "cell_type": "markdown",
      "source": [
        "Ground Cricket Chirps\n",
        "In The Song of Insects (1948) by George W. Pierce, Pierce mechanically measured the frequency (the number of wing vibrations per second) of chirps (or pulses of sound) made by a striped ground cricket, at various ground temperatures. Since crickets are ectotherms (cold-blooded), the rate of their physiological processes and their overall metabolism are influenced by temperature. Consequently, there is reason to believe that temperature would have a profound effect on aspects of their behavior, such as chirp frequency.\n",
        "\n",
        "In general, it was found that crickets did not sing at temperatures colder than 60° F or warmer than 100° F."
      ],
      "metadata": {
        "id": "CoDs7svW-eKM"
      }
    },
    {
      "cell_type": "markdown",
      "source": [
        "#Task\n",
        "\n",
        "1)Find the linear regression equation for this data.\n",
        "2)Chart the original data and the equation on the chart.\n",
        "3)Find the equation's  R2  score (use the .score method) to determine whether the equation is a good fit for this data. (0.8 and greater is considered a strong correlation.)\n",
        "4)Extrapolate data: If the ground temperature reached 95° F, then at what approximate rate would you expect the crickets to be chirping?\n",
        "5)Interpolate data: With a listening device, you discovered that on a particular morning the crickets were chirping at a rate of 18 chirps per second. What was the approximate ground temperature that morning?"
      ],
      "metadata": {
        "id": "2emdzTSo-l3F"
      }
    },
    {
      "cell_type": "code",
      "source": [
        "import itertools as it\n",
        "import matplotlib.pyplot as plt\n",
        "import numpy as np\n",
        "import pandas as pd\n",
        "from sklearn import linear_model\n",
        "from copy import deepcopy\n",
        "\n",
        "%matplotlib inline"
      ],
      "metadata": {
        "id": "2Sh-9TKZ-1cT"
      },
      "execution_count": 21,
      "outputs": []
    },
    {
      "cell_type": "code",
      "source": [
        "ground_cricket_data = {\"Chirps/Second\": [20.0, 16.0, 19.8, 18.4, 17.1, 15.5, 14.7,\n",
        "                                         15.7, 15.4, 16.3, 15.0, 17.2, 16.0, 17.0,\n",
        "                                         14.4],\n",
        "                       \"Ground Temperature\": [88.6, 71.6, 93.3, 84.3, 80.6, 75.2, 69.7,\n",
        "                                              71.6, 69.4, 83.3, 79.6, 82.6, 80.6, 83.5,\n",
        "                                              76.3]}\n",
        "df_gc = pd.DataFrame(ground_cricket_data)"
      ],
      "metadata": {
        "id": "yJ_IIrgO-5kU"
      },
      "execution_count": 2,
      "outputs": []
    },
    {
      "cell_type": "markdown",
      "source": [
        "#visualizing the data\n"
      ],
      "metadata": {
        "id": "RzvQ7QBe-90o"
      }
    },
    {
      "cell_type": "code",
      "source": [
        "chirps_sec=df_gc[['Chirps/Second']]\n",
        "ground_temp=df_gc[['Ground Temperature']]"
      ],
      "metadata": {
        "id": "BZF1heUX_AhW"
      },
      "execution_count": 13,
      "outputs": []
    },
    {
      "cell_type": "code",
      "source": [
        "plt.scatter(ground_temp,chirps_sec,color='m')\n",
        "plt.title('Ground Cricket Chirps/Sec by Ground Temperature')\n",
        "plt.xlabel('Ground Temp (˚F)')\n",
        "plt.ylabel('Chirps/Sec')"
      ],
      "metadata": {
        "colab": {
          "base_uri": "https://localhost:8080/",
          "height": 313
        },
        "id": "L96ROa2Y_cHz",
        "outputId": "8b728148-c688-4d98-ee5b-3babe26bc4ed"
      },
      "execution_count": 14,
      "outputs": [
        {
          "output_type": "execute_result",
          "data": {
            "text/plain": [
              "Text(0, 0.5, 'Chirps/Sec')"
            ]
          },
          "metadata": {},
          "execution_count": 14
        },
        {
          "output_type": "display_data",
          "data": {
            "text/plain": [
              "<Figure size 432x288 with 1 Axes>"
            ],
            "image/png": "[encoded data removed]"
          },
          "metadata": {
            "needs_background": "light"
          }
        }
      ]
    },
    {
      "cell_type": "code",
      "source": [
        "#the task is to find the relation between the two fwatures\n",
        "#We can see some outlinears but the realtion between the two features is pretty linear"
      ],
      "metadata": {
        "id": "Pfbj2SiDAGID"
      },
      "execution_count": 8,
      "outputs": []
    },
    {
      "cell_type": "code",
      "source": [
        "#creating the Linear regression model\n",
        "model=linear_model.LinearRegression()"
      ],
      "metadata": {
        "id": "-ODBXSk8AQSU"
      },
      "execution_count": 15,
      "outputs": []
    },
    {
      "cell_type": "code",
      "source": [
        "#fitting of the model\n",
        "model.fit(ground_temp,chirps_sec)"
      ],
      "metadata": {
        "colab": {
          "base_uri": "https://localhost:8080/"
        },
        "id": "dDZqwgQnA-fD",
        "outputId": "47b3b623-ce21-4e75-b919-73aee0178a21"
      },
      "execution_count": 16,
      "outputs": [
        {
          "output_type": "execute_result",
          "data": {
            "text/plain": [
              "LinearRegression()"
            ]
          },
          "metadata": {},
          "execution_count": 16
        }
      ]
    },
    {
      "cell_type": "code",
      "source": [
        ""
      ],
      "metadata": {
        "id": "0QFnqXr9BKaL"
      },
      "execution_count": null,
      "outputs": []
    },
    {
      "cell_type": "markdown",
      "source": [
        "#1) LINEAR REGRESSION EQUATION\n",
        "##Because the relation is lienar the f(x) will be of type c+m*x"
      ],
      "metadata": {
        "id": "HQox_n8CBjmB"
      }
    },
    {
      "cell_type": "code",
      "source": [
        "equation_formula=\"f(x)=\"+str(model.intercept_[0])+\"+\"+str(model.coef_[0][0])+\"x\"\n",
        "print(equation_formula)"
      ],
      "metadata": {
        "colab": {
          "base_uri": "https://localhost:8080/"
        },
        "id": "XXQOTJXYBvyw",
        "outputId": "b25a0e83-8c28-4d1e-8970-74de7776e4da"
      },
      "execution_count": 18,
      "outputs": [
        {
          "output_type": "stream",
          "name": "stdout",
          "text": [
            "f(x)=0.45931464523595267+0.20299973140771363x\n"
          ]
        }
      ]
    },
    {
      "cell_type": "markdown",
      "source": [
        "#2)CHARTING THE ORIGINAL DATA AND THE NEW DATA\n"
      ],
      "metadata": {
        "id": "YrsX3i2dCQbl"
      }
    },
    {
      "cell_type": "code",
      "source": [
        "plt.scatter(ground_temp,chirps_sec,color='m')\n",
        "plt.plot(ground_temp,model.predict(ground_temp))\n",
        "plt.title('Ground Cricket Chirps/Sec by Ground Temperature')\n",
        "plt.xlabel('Ground Temp (˚F)')\n",
        "plt.ylabel('Chirps/Sec')\n",
        "plt.show()"
      ],
      "metadata": {
        "colab": {
          "base_uri": "https://localhost:8080/",
          "height": 296
        },
        "id": "fqV7JhhgCXjS",
        "outputId": "5a9184bc-575f-428d-c4f9-8c00fb028c4b"
      },
      "execution_count": 19,
      "outputs": [
        {
          "output_type": "display_data",
          "data": {
            "text/plain": [
              "<Figure size 432x288 with 1 Axes>"
            ],
            "image/png": "[encoded data removed]"
          },
          "metadata": {
            "needs_background": "light"
          }
        }
      ]
    },
    {
      "cell_type": "markdown",
      "source": [
        "#3)FINDING THE SCORE (using score and mse)\n"
      ],
      "metadata": {
        "id": "FSlOQtqSCyYa"
      }
    },
    {
      "cell_type": "code",
      "source": [
        "y_predicted=model.predict(ground_temp)\n",
        "from sklearn.metrics import mean_squared_error\n",
        "\n",
        "mse=mean_squared_error(chirps_sec,y_predicted)\n",
        "\n",
        "score=model.score(ground_temp,chirps_sec)\n",
        "\n",
        "print(\"SCORE-> \",score)\n",
        "print(\"MSE->\",mse)\n"
      ],
      "metadata": {
        "colab": {
          "base_uri": "https://localhost:8080/"
        },
        "id": "iB2QZo6jC2oT",
        "outputId": "73a6f75f-2a26-41b1-9c04-ddfe9a7f5ec8"
      },
      "execution_count": 24,
      "outputs": [
        {
          "output_type": "stream",
          "name": "stdout",
          "text": [
            "SCORE->  0.6922946529146998\n",
            "MSE-> 0.8425656192855705\n"
          ]
        }
      ]
    },
    {
      "cell_type": "code",
      "source": [
        ""
      ],
      "metadata": {
        "id": "_uPIMqIKD_RJ"
      },
      "execution_count": null,
      "outputs": []
    },
    {
      "cell_type": "markdown",
      "source": [
        "\n",
        "#4)Predict data 95° F, then at what approximate rate would you expect the crickets to be chirping?\n",
        "\n",
        "\n"
      ],
      "metadata": {
        "id": "ItpurhnpEA6r"
      }
    },
    {
      "cell_type": "code",
      "source": [
        "y_result=model.predict([[95]])"
      ],
      "metadata": {
        "colab": {
          "base_uri": "https://localhost:8080/"
        },
        "id": "RKiCJUgXEIzB",
        "outputId": "adcd1ae1-85e7-403c-c73c-b3a9c9846bf3"
      },
      "execution_count": 26,
      "outputs": [
        {
          "output_type": "stream",
          "name": "stderr",
          "text": [
            "/usr/local/lib/python3.7/dist-packages/sklearn/base.py:451: UserWarning: X does not have valid feature names, but LinearRegression was fitted with feature names\n",
            "  \"X does not have valid feature names, but\"\n"
          ]
        }
      ]
    },
    {
      "cell_type": "code",
      "source": [
        "y_result"
      ],
      "metadata": {
        "colab": {
          "base_uri": "https://localhost:8080/"
        },
        "id": "FIOtaNLOEP4t",
        "outputId": "ae341a3d-68d8-4f7e-ecb3-1a8008a6bde2"
      },
      "execution_count": 27,
      "outputs": [
        {
          "output_type": "execute_result",
          "data": {
            "text/plain": [
              "array([[19.74428913]])"
            ]
          },
          "metadata": {},
          "execution_count": 27
        }
      ]
    },
    {
      "cell_type": "code",
      "source": [
        ""
      ],
      "metadata": {
        "id": "ZLnOJiJREXkA"
      },
      "execution_count": null,
      "outputs": []
    }
  ]
}